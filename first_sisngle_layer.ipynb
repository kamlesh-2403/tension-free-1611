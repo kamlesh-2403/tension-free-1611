{
  "nbformat": 4,
  "nbformat_minor": 0,
  "metadata": {
    "colab": {
      "name": "Untitled",
      "provenance": [],
      "collapsed_sections": [],
      "authorship_tag": "ABX9TyN/lJRJrJjbfboHYyfGjQp4",
      "include_colab_link": true
    },
    "kernelspec": {
      "name": "python3",
      "display_name": "Python 3"
    }
  },
  "cells": [
    {
      "cell_type": "markdown",
      "metadata": {
        "id": "view-in-github",
        "colab_type": "text"
      },
      "source": [
        "<a href=\"https://colab.research.google.com/github/kamlesh-2403/tensorflow-deeplearnung.ai/blob/master/first_sisngle_layer.ipynb\" target=\"_parent\"><img src=\"https://colab.research.google.com/assets/colab-badge.svg\" alt=\"Open In Colab\"/></a>"
      ]
    },
    {
      "cell_type": "markdown",
      "metadata": {
        "id": "WA2zsFeHbmvF",
        "colab_type": "text"
      },
      "source": [
        ""
      ]
    },
    {
      "cell_type": "markdown",
      "metadata": {
        "id": "DgsFXNijbovB",
        "colab_type": "text"
      },
      "source": [
        "we are creating a simple neural network with the help of tensorflow and keras api of tensorflow.\n",
        "for that we need to import some libraries.\n",
        " "
      ]
    },
    {
      "cell_type": "code",
      "metadata": {
        "id": "BWDQ5um2b_eQ",
        "colab_type": "code",
        "colab": {}
      },
      "source": [
        "import tensorflow as tf\n",
        "import numpy as np\n",
        "from tensorflow import keras"
      ],
      "execution_count": 0,
      "outputs": []
    },
    {
      "cell_type": "markdown",
      "metadata": {
        "id": "R9XNS9y8cunE",
        "colab_type": "text"
      },
      "source": [
        "we will create the simplest neural network having sequential keyword for the neural layers in sequence. then we have a dense keyword defining the presence of a single neuron without layers. "
      ]
    },
    {
      "cell_type": "code",
      "metadata": {
        "id": "DA06RVqXdPou",
        "colab_type": "code",
        "colab": {}
      },
      "source": [
        "model = tf.keras.Sequential([keras.layers.Dense(units=1,input_shape=[1])])"
      ],
      "execution_count": 0,
      "outputs": []
    },
    {
      "cell_type": "markdown",
      "metadata": {
        "id": "o9e2QnbLeBQ3",
        "colab_type": "text"
      },
      "source": [
        "now compiler the model with optimizer and loss to check whether the guess is correct. The loss calculates the mean square diffrrence between the result and expexted value in the guess and the optimizer evalutes the guess and goe for another guess if accuracy is not 100%.here,  sgd stands for stochastic gradient descent and loss is evaluated on the basis of mean squared diffrence from the original values to the evalueated value from the relation assumed."
      ]
    },
    {
      "cell_type": "code",
      "metadata": {
        "id": "4tkukGn-ec7v",
        "colab_type": "code",
        "colab": {}
      },
      "source": [
        "model.compile(optimizer='sgd', loss='mean_squared_error')"
      ],
      "execution_count": 0,
      "outputs": []
    },
    {
      "cell_type": "markdown",
      "metadata": {
        "id": "N05EkYyMfElN",
        "colab_type": "text"
      },
      "source": [
        "now, we will provide the data of values of x and y with the help of numpy library as a list and the list contains the float values."
      ]
    },
    {
      "cell_type": "code",
      "metadata": {
        "id": "ghsS9tc_fUYu",
        "colab_type": "code",
        "colab": {}
      },
      "source": [
        "xs = np.array([-1.0,  0.0, 1.0, 2.0, 3.0, 4.0], dtype=float)\n",
        "ys = np.array([-3.0, -1.0, 1.0, 3.0, 5.0, 7.0], dtype=float)"
      ],
      "execution_count": 0,
      "outputs": []
    },
    {
      "cell_type": "markdown",
      "metadata": {
        "id": "RsvUO60Bfd6N",
        "colab_type": "text"
      },
      "source": [
        "now, we will try to fit the realtion assumed by the neural network. using the loop we are approaching the correct relation between the x and y"
      ]
    },
    {
      "cell_type": "code",
      "metadata": {
        "id": "kghOJosIf6Hz",
        "colab_type": "code",
        "colab": {}
      },
      "source": [
        "model.fit(xs,ys,epochs=100)"
      ],
      "execution_count": 0,
      "outputs": []
    },
    {
      "cell_type": "markdown",
      "metadata": {
        "id": "XLIbsU3ogMsF",
        "colab_type": "text"
      },
      "source": [
        "now we will enter a random values of x and try to get the answer from the neural network that we just created "
      ]
    },
    {
      "cell_type": "code",
      "metadata": {
        "id": "ul_faOTJgZvN",
        "colab_type": "code",
        "colab": {}
      },
      "source": [
        "print(model.predict([10.0]))"
      ],
      "execution_count": 0,
      "outputs": []
    },
    {
      "cell_type": "markdown",
      "metadata": {
        "id": "2DEPo3K2gjPb",
        "colab_type": "text"
      },
      "source": [
        "as we can see we didnt got the correct or expected result because of the fact that the neural network work on the probability concept"
      ]
    }
  ]
}